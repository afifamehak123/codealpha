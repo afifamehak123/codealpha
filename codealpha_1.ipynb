{
  "nbformat": 4,
  "nbformat_minor": 0,
  "metadata": {
    "colab": {
      "provenance": []
    },
    "kernelspec": {
      "name": "python3",
      "display_name": "Python 3"
    },
    "language_info": {
      "name": "python"
    }
  },
  "cells": [
    {
      "cell_type": "code",
      "source": [],
      "metadata": {
        "id": "akt6CCC9GZ69"
      },
      "execution_count": null,
      "outputs": []
    },
    {
      "cell_type": "code",
      "execution_count": null,
      "metadata": {
        "colab": {
          "base_uri": "https://localhost:8080/"
        },
        "id": "sc2JtdP8Ffel",
        "outputId": "349bc2ef-d7fe-4c51-b515-36cae86ce72e"
      },
      "outputs": [
        {
          "output_type": "stream",
          "name": "stdout",
          "text": [
            "Welcome to Hangman!\n",
            "Guess the word one letter at a time.\n",
            "\n",
            "Word: _ _ _ _\n",
            "Incorrect guesses left: 6\n",
            "Enter a letter: h\n",
            "Wrong guess.\n",
            "\n",
            "Word: _ _ _ _\n",
            "Incorrect guesses left: 5\n",
            "Enter a letter: c\n",
            "Wrong guess.\n",
            "\n",
            "Word: _ _ _ _\n",
            "Incorrect guesses left: 4\n",
            "Enter a letter: a\n",
            "Good guess!\n",
            "\n",
            "Word: _ a _ a\n",
            "Incorrect guesses left: 4\n",
            "Enter a letter: j\n",
            "Good guess!\n",
            "\n",
            "Word: j a _ a\n",
            "Incorrect guesses left: 4\n",
            "Enter a letter: v\n",
            "Good guess!\n",
            "\n",
            "Congratulations! You've guessed the word: java\n"
          ]
        }
      ],
      "source": [
        "import random\n",
        "\n",
        "# List of words for the game\n",
        "words = [\"python\", \"java\", \"hangman\", \"programming\", \"algorithm\", \"computer\"]\n",
        "\n",
        "def select_random_word(word_list):\n",
        "    \"\"\"Selects a random word from the given word list.\"\"\"\n",
        "    return random.choice(word_list)\n",
        "\n",
        "def display_word_progress(word, guessed_letters):\n",
        "    \"\"\"Displays the current progress of the word with guessed letters.\"\"\"\n",
        "    progress = \"\"\n",
        "    for letter in word:\n",
        "        if letter in guessed_letters:\n",
        "            progress += letter + \" \"\n",
        "        else:\n",
        "            progress += \"_ \"\n",
        "    return progress.strip()\n",
        "\n",
        "def play_hangman():\n",
        "    word = select_random_word(words)\n",
        "    guessed_letters = set()\n",
        "    incorrect_guesses = 0\n",
        "    max_incorrect_guesses = 6\n",
        "\n",
        "    print(\"Welcome to Hangman!\")\n",
        "    print(\"Guess the word one letter at a time.\")\n",
        "\n",
        "    while incorrect_guesses < max_incorrect_guesses:\n",
        "        print(\"\\nWord:\", display_word_progress(word, guessed_letters))\n",
        "        print(\"Incorrect guesses left:\", max_incorrect_guesses - incorrect_guesses)\n",
        "\n",
        "        guess = input(\"Enter a letter: \").lower()\n",
        "\n",
        "        if guess in guessed_letters:\n",
        "            print(\"You've already guessed that letter. Try another one.\")\n",
        "        elif guess in word:\n",
        "            guessed_letters.add(guess)\n",
        "            print(\"Good guess!\")\n",
        "        else:\n",
        "            incorrect_guesses += 1\n",
        "            guessed_letters.add(guess)\n",
        "            print(\"Wrong guess.\")\n",
        "\n",
        "        # Check if all letters in the word are guessed\n",
        "        if all(letter in guessed_letters for letter in word):\n",
        "            print(\"\\nCongratulations! You've guessed the word:\", word)\n",
        "            break\n",
        "    else:\n",
        "        print(\"\\nSorry, you've run out of guesses. The word was:\", word)\n",
        "\n",
        "# Start the game\n",
        "play_hangman()\n"
      ]
    }
  ]
}